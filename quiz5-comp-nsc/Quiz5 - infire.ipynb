{
 "cells": [
  {
   "cell_type": "code",
   "execution_count": 34,
   "metadata": {},
   "outputs": [
    {
     "data": {
      "image/png": "[encoded data removed]",
      "text/plain": [
       "<Figure size 432x288 with 1 Axes>"
      ]
     },
     "metadata": {
      "needs_background": "light"
     },
     "output_type": "display_data"
    }
   ],
   "source": [
    "from __future__ import print_function\n",
    "\"\"\"\n",
    "Created on Wed Apr 22 16:02:53 2015\n",
    "\n",
    "Basic integrate-and-fire neuron \n",
    "R Rao 2007\n",
    "\n",
    "translated to Python by rkp 2015\n",
    "\"\"\"\n",
    "\n",
    "import numpy as np\n",
    "import matplotlib.pyplot as plt\n",
    "\n",
    "\n",
    "# input current\n",
    "I = 0.2516# nA\n",
    "\n",
    "# capacitance and leak resistance\n",
    "C = 1 # nF\n",
    "R = 40 # M ohms\n",
    "\n",
    "# I & F implementation dV/dt = - V/RC + I/C\n",
    "# Using h = 1 ms step size, Euler method\n",
    "\n",
    "V = 0\n",
    "tstop = 200\n",
    "abs_ref = 5 # absolute refractory period \n",
    "ref = 0 # absolute refractory period counter\n",
    "V_trace = []  # voltage trace for plotting\n",
    "V_th = 10 # spike threshold\n",
    "\n",
    "for t in range(tstop):\n",
    "  \n",
    "   if not ref:\n",
    "       V = V - (V/(R*C)) + (I/C)\n",
    "   else:\n",
    "       ref -= 1\n",
    "       V = 0.2 * V_th # reset voltage\n",
    "   \n",
    "   if V > V_th:\n",
    "       V = 50 # emit spike\n",
    "       ref = abs_ref # set refractory counter\n",
    "\n",
    "   V_trace += [V]\n",
    "\n",
    "\n",
    "plt.plot(V_trace)\n",
    "plt.show()"
   ]
  },
  {
   "cell_type": "code",
   "execution_count": null,
   "metadata": {},
   "outputs": [],
   "source": []
  }
 ],
 "metadata": {
  "kernelspec": {
   "display_name": "Python 3",
   "language": "python",
   "name": "python3"
  },
  "language_info": {
   "codemirror_mode": {
    "name": "ipython",
    "version": 3
   },
   "file_extension": ".py",
   "mimetype": "text/x-python",
   "name": "python",
   "nbconvert_exporter": "python",
   "pygments_lexer": "ipython3",
   "version": "3.6.9"
  }
 },
 "nbformat": 4,
 "nbformat_minor": 4
}
