{
 "cells": [
  {
   "cell_type": "code",
   "execution_count": 30,
   "metadata": {},
   "outputs": [
    {
     "name": "stdout",
     "output_type": "stream",
     "text": [
      "{'neuron4': array([[18.1, 12.1,  6. , ..., 26.7, 25.4, 23.1],\n",
      "       [17.4, 14.8,  6.7, ..., 27.3, 27. , 25.4],\n",
      "       [17.6, 14.8,  7.6, ..., 29.4, 26.2, 22.9],\n",
      "       ...,\n",
      "       [20.1, 12.8,  7.6, ..., 25.3, 26.5, 24.3],\n",
      "       [18.1, 12.3,  7.4, ..., 26.3, 27. , 23.9],\n",
      "       [17.9, 15.3,  6.4, ..., 26.2, 26.8, 25. ]]), 'stim': array([  0.,  15.,  30.,  45.,  60.,  75.,  90., 105., 120., 135., 150.,\n",
      "       165., 180., 195., 210., 225., 240., 255., 270., 285., 300., 315.,\n",
      "       330., 345.]), 'neuron3': array([[0. , 0. , 0. , ..., 0. , 0. , 0. ],\n",
      "       [0. , 0. , 0. , ..., 0.9, 0. , 0. ],\n",
      "       [0. , 0. , 0. , ..., 0. , 0. , 0. ],\n",
      "       ...,\n",
      "       [0. , 0. , 0. , ..., 0.2, 0. , 0. ],\n",
      "       [0. , 0. , 0. , ..., 0. , 0. , 0. ],\n",
      "       [0. , 0. , 0. , ..., 0. , 0. , 0. ]]), 'neuron2': array([[0., 0., 0., ..., 0., 0., 0.],\n",
      "       [0., 0., 0., ..., 0., 0., 0.],\n",
      "       [0., 0., 0., ..., 0., 0., 0.],\n",
      "       ...,\n",
      "       [0., 0., 0., ..., 0., 0., 0.],\n",
      "       [0., 0., 0., ..., 0., 0., 0.],\n",
      "       [0., 0., 0., ..., 0., 0., 0.]]), 'neuron1': array([[19.7, 27.4, 28.1, ...,  0. ,  9.8, 16.1],\n",
      "       [21.3, 28.7, 32.8, ...,  0. ,  8.3, 16.6],\n",
      "       [21.5, 27.3, 29.3, ...,  0. ,  8.6, 17.2],\n",
      "       ...,\n",
      "       [21.9, 28.7, 30. , ...,  0. ,  8.7, 14.4],\n",
      "       [24.1, 28.1, 29.1, ...,  0. ,  7.1, 15.9],\n",
      "       [24. , 28.3, 28.4, ...,  0. ,  8.2, 19.1]])}\n"
     ]
    }
   ],
   "source": [
    "import pickle\n",
    "import numpy as np\n",
    "from matplotlib import pyplot as plt\n",
    "\n",
    "with open('tuning_3.4.pickle', 'rb') as f:\n",
    "    data = pickle.load(f)\n",
    "\n",
    "    print(data)"
   ]
  },
  {
   "cell_type": "code",
   "execution_count": 31,
   "metadata": {},
   "outputs": [],
   "source": [
    "neuron_1 = data[\"neuron1\"]\n",
    "neuron_2 = data[\"neuron2\"]\n",
    "neuron_3 = data[\"neuron3\"]\n",
    "neuron_4 = data[\"neuron4\"]\n",
    "stim = data[\"stim\"]"
   ]
  },
  {
   "cell_type": "code",
   "execution_count": 32,
   "metadata": {},
   "outputs": [
    {
     "name": "stdout",
     "output_type": "stream",
     "text": [
      "[[19.7 27.4 28.1 ...  0.   9.8 16.1]\n",
      " [21.3 28.7 32.8 ...  0.   8.3 16.6]\n",
      " [21.5 27.3 29.3 ...  0.   8.6 17.2]\n",
      " ...\n",
      " [21.9 28.7 30.  ...  0.   8.7 14.4]\n",
      " [24.1 28.1 29.1 ...  0.   7.1 15.9]\n",
      " [24.  28.3 28.4 ...  0.   8.2 19.1]]\n"
     ]
    }
   ],
   "source": [
    "print(neuron_1)"
   ]
  },
  {
   "cell_type": "code",
   "execution_count": 33,
   "metadata": {},
   "outputs": [
    {
     "data": {
      "text/plain": [
       "24"
      ]
     },
     "execution_count": 33,
     "metadata": {},
     "output_type": "execute_result"
    }
   ],
   "source": [
    "len(stim)"
   ]
  },
  {
   "cell_type": "code",
   "execution_count": 34,
   "metadata": {},
   "outputs": [
    {
     "data": {
      "text/plain": [
       "24"
      ]
     },
     "execution_count": 34,
     "metadata": {},
     "output_type": "execute_result"
    }
   ],
   "source": [
    "len(neuron_1[0])"
   ]
  },
  {
   "cell_type": "code",
   "execution_count": 44,
   "metadata": {},
   "outputs": [],
   "source": [
    "# Question 1) Find the form of the neurons plotted against the stimulus\n",
    "neuron_1_t = neuron_1.transpose()\n",
    "neuron_2_t = neuron_2.transpose()\n",
    "neuron_3_t = neuron_3.transpose()\n",
    "neuron_4_t = neuron_4.transpose()"
   ]
  },
  {
   "cell_type": "code",
   "execution_count": 45,
   "metadata": {},
   "outputs": [
    {
     "name": "stdout",
     "output_type": "stream",
     "text": [
      "[22.528000000000002, 27.557, 30.68399999999999, 31.706999999999997, 30.663999999999998, 27.761000000000017, 22.501999999999995, 16.159000000000002, 8.261, 0.0, 0.0, 0.0, 0.0, 0.0, 0.0, 0.0, 0.0, 0.0, 0.0, 0.0, 0.0, 0.0, 8.352, 16.013000000000005]\n"
     ]
    }
   ],
   "source": [
    "neurons_t = [neuron_1_t, neuron_2_t, neuron_3_t, neuron_4_t]\n",
    "total_neurons = []\n",
    "totals = []\n",
    "total = 0\n",
    "for neuron_t in neurons_t:\n",
    "    for stimuli in neuron_t:\n",
    "        for firing_rate in stimuli:\n",
    "            total = total + firing_rate\n",
    "\n",
    "        totals.append(total)\n",
    "        total = 0\n",
    "    \n",
    "    for i in range(0, 24):\n",
    "        totals[i] = totals[i] / 100\n",
    "    \n",
    "    total_neurons.append(totals)\n",
    "    totals = []"
   ]
  },
  {
   "cell_type": "code",
   "execution_count": 46,
   "metadata": {},
   "outputs": [
    {
     "data": {
      "image/png": "[encoded data removed]",
      "text/plain": [
       "<Figure size 432x288 with 1 Axes>"
      ]
     },
     "metadata": {
      "needs_background": "light"
     },
     "output_type": "display_data"
    }
   ],
   "source": [
    "x = stim\n",
    "y = totals\n",
    "plt.plot(x,y)\n",
    "plt.show()"
   ]
  },
  {
   "cell_type": "code",
   "execution_count": 47,
   "metadata": {},
   "outputs": [],
   "source": [
    "# Answer 1) It's a half-rectified cosine\n",
    "# Question 2) Which of the neurons is NOT Poisson?\n"
   ]
  },
  {
   "cell_type": "code",
   "execution_count": null,
   "metadata": {},
   "outputs": [],
   "source": []
  }
 ],
 "metadata": {
  "kernelspec": {
   "display_name": "Python 3",
   "language": "python",
   "name": "python3"
  },
  "language_info": {
   "codemirror_mode": {
    "name": "ipython",
    "version": 3
   },
   "file_extension": ".py",
   "mimetype": "text/x-python",
   "name": "python",
   "nbconvert_exporter": "python",
   "pygments_lexer": "ipython3",
   "version": "3.6.9"
  }
 },
 "nbformat": 4,
 "nbformat_minor": 4
}
